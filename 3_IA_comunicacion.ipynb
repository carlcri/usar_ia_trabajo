{
 "cells": [
  {
   "cell_type": "markdown",
   "metadata": {},
   "source": [
    "# IA para comunicación efectiva"
   ]
  },
  {
   "cell_type": "markdown",
   "metadata": {},
   "source": [
    "## Crece tu impacto profesional usando ChatGPT\n",
    "\n",
    "Abordar el gran desafío de presentaciones efectivas puede ser una labor desalentadora, pero existe una solución innovadora que utiliza la inteligencia artificial para la creación de talleres relevantes.\n",
    "\n",
    "Acompáñanos mientras exploramos cómo usar la tecnología para exprimir los puntos más importantes de un texto y sacarle el máximo partido.\n",
    "\n",
    "![](https://i.imgur.com/xOZEMLH.png)\n",
    "\n",
    "### ¿Cómo hacer una presentación efectiva aprovechando la inteligencia artificial?\n",
    "\n",
    "Primero, necesitamos una guía para llevar a cabo una excelente presentación. En este caso, la recomendación fue el libro *“As We Speak, How to Make Your Point and Have It Stick”*, de Peter Mayers. Pero en lugar de leer el libro, puedes usar las herramientas de IA para obtener un resumen rápido.\n",
    "\n",
    "Las recomendaciones clave incluyen conectar con la audiencia con base en sus intereses, estructurar la presentación de manera organizada y usar apoyos visuales.\n",
    "\n",
    "### ¿Cómo conectar con la audiencia dramáticamente?\n",
    "\n",
    "![](https://i.imgur.com/cDg4k9R.png)\n",
    "\n",
    "Una de las recomendaciones extraídas del libro es conectar con la audiencia de acuerdo a sus necesidades e intereses. Para poner un ejemplo, basándonos en las respuestas de ChatGPT, una inteligencia artificial, podemos decir que para conectar de manera efectiva con la audiencia.\n",
    "\n",
    "Debes usar historias y ejemplos para hablar con un lenguaje claro y sencillo, además de fomentar la participación activa.\n",
    "\n",
    "### ¿Cómo finalizar nuestra presentación de manera memorable?\n",
    "\n",
    "Finalmente, con todo el contenido preparado, una redacción mejorada y un ajuste de las palabras clave, solo queda preparar una presentación de diapositivas de alto impacto.\n",
    "\n",
    "Recuerda que la última impresión es tan importante como la primera, hacer que tu presentación sea memorable es esencial para crear un impacto duradero.\n",
    "\n",
    "\n",
    "\n"
   ]
  },
  {
   "cell_type": "markdown",
   "metadata": {},
   "source": [
    "## Automatizar la creación de presentaciones usando SlidesAI\n",
    "\n",
    "![](https://i.imgur.com/ZN4cvEl.png)\n",
    "\n",
    "Empieza a revolucionar tu estilo de presentaciones y descubre cómo puedes maximizar tu eficiencia sin sacrificar la calidad.\n",
    "\n",
    "En el siguiente desglose, te mostraremos cómo hacer uso de la inteligencia artificial para crear presentaciones efectivas y personalizadas a través de slides.ai.io.\n",
    "\n",
    "### ¿Cómo Comenzar con Slides.ai.io?\n",
    "\n",
    "Para dar inicio, tienes que abrir tu navegador y acceder al sitio web https://www.slidesai.io/ Esta plataforma, que se centra en la inteligencia artificial, ofrece múltiples herramientas para la creación de presentaciones.\n",
    "\n",
    "### ¿Cómo Instalar la Extensión de Slides.ai.io?\n",
    "\n",
    "Tu próximo paso será instalar la extensión que podrás utilizar en Google Slides. Para lograr esto, deberás conceder permisos para vincularse a tu correo electrónico y acceder a tus archivos de Google Workspace.\n",
    "\n",
    "### ¿Cómo Crear una Presentación con Slides.ai.io?\n",
    "\n",
    "Con la extensión correctamente instalada, tendrás que abrir Google Slides y decidir si tu intención es crear una presentación desde cero o mejorar una ya existente. Para nuestra demostración, optaremos por una nueva presentación.\n",
    "\n",
    "### ¿Cómo Generar Slides con Inteligencia Artificial?\n",
    "\n",
    "Desplázate a la sección de extensiones en Google Slides y selecciona \"Generar Slides\" en la extensión slides.ai.io. Al primer uso, te solicitará responder algunas preguntas para ayudar a la plataforma a entender mejor tu perfil. Luego desde la ventana de diálogo, añadirás el texto de tu contenido.\n",
    "\n",
    "![](https://i.imgur.com/kfHV7w4.png)\n",
    "\n",
    "### ¿Cómo Obtener el Mejor Resultado de la Presentación?\n",
    "\n",
    "El volumen del texto que ingreses se traducirá directamente en la calidad de la presentación generada; el sistema te permitirá hasta 2,500 caracteres, equivalente a una página aproximadamente.\n",
    "\n",
    "### ¿Cómo Personalizar la Presentación con Inteligencia Artificial?\n",
    "\n",
    "Además del texto, la extensión te brinda opciones para especificar el estilo de la presentación que buscas, como el número de slides, la inclusión de imágenes, y hasta la posibilidad de añadir un slide para el título y agradecimientos.\n",
    "\n",
    "¿Cómo Refinar Tu Presentación con Slides.ai.io?\n",
    "Finalmente, puedes volver a la sección de extensiones y seleccionar \"Magic Write\" desde la extensión SlidesAI.io, lo que permite una mejora adicional en la redacción de tus textos o la inclusión de imágenes adecuadas.\n",
    "\n",
    "### ¿Cómo Garantizar una Presentación Efectiva?\n",
    "\n",
    "Mientras que la inteligencia artificial puede facilitar considerablemente el proceso, recordemos que adaptar el contenido a tu estilo personal y contexto será crucial para la efectividad de tus presentaciones.\n",
    "\n",
    "No dudes en experimentar para encontrar la mejor manera de transmitir tus mensajes de manera convincente y memorable.\n",
    "\n",
    "https://docs.google.com/presentation/d/1cw9abPElvgl88cE8s75HQK-BiyjMacWzlUXUthKrxHY/edit#slide=id.SLIDES_API978571437_27 \n",
    "\n"
   ]
  }
 ],
 "metadata": {
  "language_info": {
   "name": "python"
  }
 },
 "nbformat": 4,
 "nbformat_minor": 2
}
