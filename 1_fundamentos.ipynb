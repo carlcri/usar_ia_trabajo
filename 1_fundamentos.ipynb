{
 "cells": [
  {
   "cell_type": "markdown",
   "metadata": {},
   "source": [
    "# Fundamentos de AI"
   ]
  },
  {
   "cell_type": "markdown",
   "metadata": {},
   "source": [
    "## ¿Cómo funciona la inteligencia artificial?\n",
    "\n",
    "Perfiles de personas trabajando con AI:\n",
    "\n",
    "- Quienes investigan modelos, algoritmos, y arquitecturas de la AI\n",
    "- Equipos que usan modelos creados y con estos construyen aplicaciones para otras personas\n",
    "- Las personas que usan herramientas de AI en su dia dia. \n",
    "\n",
    "![](https://i.imgur.com/OnzLl5w.png)\n"
   ]
  },
  {
   "cell_type": "markdown",
   "metadata": {},
   "source": [
    "Se le enseña a la computadora *como pensar*, entrenar el modelo de acuerdo a los datos, y que finalmente pueda clasificar y hacer prediciones.\n",
    "\n",
    "### Tipos de aprendizaje automatico\n",
    "\n",
    "![](https://i.imgur.com/IlxvyEY.png)\n",
    "\n"
   ]
  },
  {
   "cell_type": "markdown",
   "metadata": {},
   "source": [
    "### ¿Y si queremos aprender cosas mas complejas de los datos?\n",
    "\n",
    "Los modelos tradicionales de ML no logran ayudarnos. Afortunadamente dentro del aprendizaje automatico hay un campo que usa en su conjunto datos supervisados y no supervisados, junto a algoritmos muy especializados como son las *redes neuronales*. Estas ultimas dan origen a un subcampo del ML llamado *Deep Learning*\n",
    "\n",
    "![](https://i.imgur.com/sVsh54G.png)"
   ]
  },
  {
   "cell_type": "markdown",
   "metadata": {},
   "source": [
    "Estas redes simulan como funcionan las neuronas del cerebro. Dentro del *Deep Learning* hay otro subcampo de los mas revolucionarios de la AI: *Procesamiento de Lenguaje Natural*: Analizar, simular y resolver problemas propios del lenguaje humano 🧠🧠\n",
    "\n",
    "![](https://i.imgur.com/uMXE8bw.png)"
   ]
  },
  {
   "cell_type": "markdown",
   "metadata": {},
   "source": [
    "Para resolver este desafio en 2017, se publico un articulo donde se manifestaba se podia manejar el desempeño de dichas redes, si utilizan funciones propias de la comision humana, como la atencion:\n",
    "\n",
    "![](https://i.imgur.com/iUlLMQX.png)"
   ]
  },
  {
   "cell_type": "markdown",
   "metadata": {},
   "source": [
    "Por ejemplo, la palabra reina tiene significados distintos dependiendo del contexto:\n",
    "\n",
    "![](https://i.imgur.com/HML6XNI.png)\n",
    "\n",
    "Gracias a la funcion de *Atencion* una computadora puede analizar como otras palabras tienen probabilidades mayores o menores de influir en el significado total de la oracion. \n",
    "\n",
    "La funcion de atencion y las redes neuronales, dieron pie a los *Transformers*, que son escenciles para por ejemplo *ChatGPT*, que signiica *Chat Generative Pretrained Trannsformer*. Su gran logro es ser excelente determinando cual es la siguiente palabra mas probable en un texto sin olvidar miles y miles de palabras anteriores. De esa forma mantiene consistencia en el mensaje\n",
    "\n",
    "![](https://i.imgur.com/QNUHO8l.png)"
   ]
  },
  {
   "cell_type": "markdown",
   "metadata": {},
   "source": [
    "### ¿Como se construyen estas herrramientas como chatGPT?\n",
    "\n",
    "Hay una serie de modelos base para desarrollar multiples herramientas. Son grandes modelos que se entrenan en una amplia gama de datos, y luego se pueden ajustar para realizar tareas especificas. Para el caso del *Procesamiento del Lenguaje Natural* son conocidos como LLM\n",
    "\n",
    "#### Large Languaje Models - LLM\n",
    "\n",
    "Son una especie de *cerebros digitales*, que aprenden de una gran cantidad de informacion, y luego usan ese conocimiento para hacer muchas cosas diferentes, para este caso generar texto. \n",
    "\n",
    "Los profesionales en Ciencias de Datos, Machine Learning, Desarrollo Backend, y Cloud Engineering, investigan que modelos fundacionales se han creado, y los adaptan para implementarlos en productos que nos ayuden a resolver  problemas en el dia dia. \n",
    "\n",
    "GPT es un tipo de AI Generativa, porque es capaza de generar a partir de lo que ha aprendido en el pasado, y asi como chatGPT existen otras:\n",
    "\n",
    "![](https://i.imgur.com/EEeWBNL.png)\n",
    "\n",
    "#### Como usar estar herramientas de AI Generativa \n",
    "\n",
    "Con un prompt, o una frase de maximo 400 caracteres, segun la recomendacion de Open AI, para describir lo que queremos lograr con la computadora.\n",
    "\n",
    "![](https://i.imgur.com/n6kewZB.png)\n",
    "\n",
    "- claro\n",
    "- especifico\n",
    "- entregar contexto\n",
    "\n",
    "##### Ejemplos de malos prompts\n",
    "\n",
    "*enseñame de fisica*, \n",
    "\n",
    "cambiarlo por:\n",
    "\n",
    " *eres profesor de astrofisica en una universidad. Vas a dar clase a personas  sin experiencia sobre la teoria de la relatividad de Einstein. Explica el concepto y para que sirve esa teoria en terminos simples y con analogias adecuadas a niños de 10 años. Limita tu respuesta a 4 parrafos*"
   ]
  },
  {
   "cell_type": "markdown",
   "metadata": {},
   "source": [
    "## Estructura de un prompt para usar ChatGPT\n",
    "\n",
    "- contexto: actua como un experto en historia del arte \n",
    "- instruccion:  compara y contrasta \n",
    "- input:(¿Que va a contrastar?): las pinturas \"La Ultima Cena\" de Leonardo Da Vinci, y el \"Guernica\" de Pablo Picasso \n",
    "- output: Entregame las comparaciones en numerales. \n",
    "\n",
    "Creo una cuenta en chatGPT y uso la version gratuita, en el curso usan la GPT-4. Le doy un contexto:\n",
    "\n",
    "    Actua como un experto en historia del arte,  compara y contrasta las pinturas \"La Ultima Cena\" de Leonardo Da Vinci, y el \"Guernica\" de Pablo Picasso. Entregame las comparaciones en numerales. \n",
    "\n",
    "Y lo que me responde:\n",
    "\n",
    "1. Contexto Histórico y Cultural:\n",
    "\n",
    "- \"La Última Cena\": Fue pintada entre 1495 y 1498 durante el Renacimiento italiano, un período de gran avance cultural y artístico en Europa. Da Vinci capturó la transición entre el arte medieval y el renacimiento, destacando la perspectiva y la anatomía.\n",
    "\n",
    "- \"Guernica\": Fue pintada en 1937 durante la Guerra Civil Española, un período de gran conflicto y sufrimiento. Picasso respondió al bombardeo de la ciudad de Guernica por parte de la Legión Cóndor alemana y la Aviación Legionaria italiana, mostrando su indignación y condena a la violencia.\n",
    "\n",
    "2. Estilo Artístico:\n",
    "\n",
    "- \"La Última Cena\": Es un ejemplo paradigmático del estilo renacentista, donde Da Vinci aplicó meticulosamente la perspectiva lineal y el sfumato para crear profundidad y realismo. Los personajes están dispuestos en un espacio tridimensional y se observa una atención meticulosa a los detalles.\n",
    "\n",
    "- \"Guernica\": Pertenece al estilo del cubismo, un movimiento artístico que Picasso co-fundó. Utiliza formas geométricas y ángulos agudos para representar de manera simbólica la tragedia y el caos de la guerra.\n",
    "\n",
    "3. Composición:\n",
    "\n",
    "- \"La Última Cena\": Presenta una composición simétrica y equilibrada, con Jesús en el centro y los apóstoles dispuestos en grupos de tres a cada lado. El énfasis está en la figura de Jesús y su interacción con los apóstoles.\n",
    "\n",
    "- \"Guernica\": La composición es caótica y desordenada, con figuras desgarradas y fragmentadas que ocupan todo el lienzo. No sigue una estructura tradicional y las figuras están dispersas, reflejando el caos y la angustia del bombardeo.\n",
    "\n",
    "4. Simbolismo:\n",
    "\n",
    "- \"La Última Cena\": Tiene un fuerte componente religioso y simboliza el momento en que Jesús comparte su última cena con sus discípulos antes de su crucifixión. Los gestos y expresiones de los personajes reflejan sus emociones y reacciones ante las palabras de Jesús.\n",
    "\n",
    "- \"Guernica\": Es una representación alegórica de la brutalidad de la guerra y el sufrimiento humano. Cada figura y elemento en la pintura tiene un simbolismo específico, como el caballo herido, el toro y las figuras angustiadas.\n",
    "\n",
    "5. Paleta de Colores:\n",
    "\n",
    "- \"La Última Cena\": Predominan los tonos cálidos y terrosos, lo que crea una atmósfera serena y contemplativa. Da Vinci utilizó colores naturales para lograr un efecto armonioso y equilibrado.\n",
    "\n",
    "- \"Guernica\": Emplea una paleta de colores en blanco y negro, lo que acentúa la sensación de tragedia y desesperación. La ausencia de colores vibrantes contribuye a la atmósfera sombría y opresiva.\n",
    "\n",
    "Estas son algunas de las principales diferencias y similitudes entre \"La Última Cena\" de Leonardo da Vinci y \"Guernica\" de Pablo Picasso desde una perspectiva de historia del arte. Cada una de estas obras refleja su contexto histórico, las creencias y las preocupaciones de los artistas en ese momento específico.\n",
    "\n"
   ]
  },
  {
   "cell_type": "markdown",
   "metadata": {},
   "source": [
    "![](https://i.imgur.com/HbB6KUe.png)\n",
    "\n",
    "No es siempre necesario tenerlos todos estos aspectos presentes en un prompt. Muchas veces puedo obviar el output, o el contexto, la instruccion si es escencial. Veamos un ejemplo:\n",
    "\n",
    "    Describe brevemente la trama de la pelicula \"El Padrino\" (1972)\n",
    "\n",
    "- instrucion: Describe brevemente\n",
    "- input: la trama de la pelicula \"El Padrino\" (1972)"
   ]
  },
  {
   "cell_type": "markdown",
   "metadata": {},
   "source": [
    "    Redacta un mensaje de agradecimiento a tus compañeros de trabajo por la ayuda brindada en un proyecto reciente, usa un estilo formal\n",
    "\n",
    "- instrucion: redacta un mensaje de agradecimiento \n",
    "\n",
    "- input: a tus compañeros de trabajo por la ayuda brindada en un proyecto reciente\n",
    "\n",
    "- contexto: usa un estilo formal"
   ]
  },
  {
   "cell_type": "markdown",
   "metadata": {},
   "source": [
    "\n",
    "    Calcula el tiempo que tarda en recorrer una distancia de 150km a una velocidad de 60 km/h. Expresa la respuesta en horas y minutos.\n",
    "\n",
    "- instruccion: Calcula el tiempo\n",
    "- input: que tarda en recorrer una distancia de 150km a una velocidad de 60 km/h.\n",
    "- output: Expresa la respuesta en horas y minutos."
   ]
  },
  {
   "cell_type": "markdown",
   "metadata": {},
   "source": [
    "    Diseña un logotipo para una empresa llamada \"Innovatech\" que refleje innovacion y modernidad. Describe los colores y formar utilizados.\n",
    "\n",
    "- instruccion: iseña un logotipo\n",
    "- input: para una empresa llamada \"Innovatech\"\n",
    "- contexto: que refleje innovacion y modernidad\n",
    "- output: Describe los colores y formar utilizados."
   ]
  },
  {
   "cell_type": "markdown",
   "metadata": {},
   "source": [
    "    Eres un experto en nutricion. Enumera cinco alimentos ricos en proteinas que sean adecuados para una dieta vegetariana\n",
    "\n",
    "- instruccion: Enumera cinco alimentos ricos en proteinas\n",
    "- Input: que sean adecuados para una **dieta vegetariana**\n",
    "- contexto: Eres un experto en nutricion"
   ]
  }
 ],
 "metadata": {
  "language_info": {
   "name": "python"
  },
  "orig_nbformat": 4
 },
 "nbformat": 4,
 "nbformat_minor": 2
}
